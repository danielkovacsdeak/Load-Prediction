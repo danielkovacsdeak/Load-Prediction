{
 "cells": [
  {
   "cell_type": "markdown",
   "metadata": {},
   "source": [
    "## Step 01 - Data Cleaning\n",
    "The above mentioned low resolution data needs some preparation before processing. The data set is full of null values, real data can be found at only few points. For this reason we need to clean it. First delete all rows with no data points at all. (If we have only NaN values in a row, then we drop that row.) We save the result to \"CleandFromAllNull.xlsx\".\n",
    "\n",
    "After clearing the all-NaN rows we interpolate the rest. If we have 2 points with value and NaN-s between, we assume steady consumption there. On the other hand the input data set has aggregated data (how much electricity has been used until the actual time point) but we need electricity useage in every half-hour time interval (not aggregated).\n",
    "Eg.\n",
    "\n",
    "|day1 |day2 |day3|day4|day5 |day6|... |\n",
    "| --- | --- | - | --- | --- | - |---  |\n",
    "|NaN  |NaN  |**3**|NaN  |NaN  |**6**|...  |\n",
    "\n",
    "Here we start with NaN-s, so until the first value we change all NaN-s to 0-s. After the first value (**3**) we have 2 more NaN-s and then the second value (**6**). Now we assume steady consumption between our **3** and **6**. The difference between the values is **6-3** = 3, this 3 value is for 4 days (day3, day4, day5, day6) so the portion of each time-interval is 3/4 = 0.75.\n",
    "The above example data will be processed like:\n",
    "\n",
    "|day1 |day2 |day3|day4|day5 |day6|... |\n",
    "| --- | --- | -- | -- | --- | -- |---  |\n",
    "|0  |0  |**3.75**  |0.75  |0.75 |**0.75**|...  |\n",
    "\n",
    "Now we have our test data ready."
   ]
  },
  {
   "cell_type": "code",
   "execution_count": 1,
   "metadata": {},
   "outputs": [
    {
     "name": "stdout",
     "output_type": "stream",
     "text": [
      "Populating the interactive namespace from numpy and matplotlib\n"
     ]
    }
   ],
   "source": [
    "%pylab inline\n",
    "import pandas as pd\n",
    "import datetime\n",
    "import ipywidgets\n",
    "import time"
   ]
  },
  {
   "cell_type": "code",
   "execution_count": 2,
   "metadata": {
    "collapsed": true
   },
   "outputs": [],
   "source": [
    "xls = pd.ExcelFile('MPAN Data - interim 080819.xlsx')"
   ]
  },
  {
   "cell_type": "code",
   "execution_count": 3,
   "metadata": {
    "collapsed": true
   },
   "outputs": [],
   "source": [
    "'''\n",
    "The original input excel file had more sheets.\n",
    "Create a dict with sheet names as keys and sheets as values.\n",
    "'''\n",
    "sheet_to_df_map = {}\n",
    "for sheet in xls.sheet_names:\n",
    "    sheet_to_df_map[sheet] = xls.parse(sheet)"
   ]
  },
  {
   "cell_type": "code",
   "execution_count": 189,
   "metadata": {},
   "outputs": [
    {
     "data": {
      "text/plain": [
       "(2909, 589)"
      ]
     },
     "execution_count": 189,
     "metadata": {},
     "output_type": "execute_result"
    }
   ],
   "source": [
    "# in this case we only need one sheet\n",
    "\n",
    "df = sheet_to_df_map['2018 2019']\n",
    "df.columns = df.iloc[0]   # fixing header\n",
    "df = df.drop(df.index[0])\n",
    "df.head()\n",
    "df.shape"
   ]
  },
  {
   "cell_type": "code",
   "execution_count": 5,
   "metadata": {},
   "outputs": [
    {
     "name": "stdout",
     "output_type": "stream",
     "text": [
      "9\n",
      "2909 589\n"
     ]
    },
    {
     "data": {
      "application/vnd.jupyter.widget-view+json": {
       "model_id": "53099a81b70347768075870913ebcced",
       "version_major": 2,
       "version_minor": 0
      },
      "text/plain": [
       "A Jupyter Widget"
      ]
     },
     "metadata": {},
     "output_type": "display_data"
    }
   ],
   "source": [
    "'''\n",
    "counting from 0 the 9th column is the first\n",
    "with reading data, lets find this with a \n",
    "script:\n",
    "'''\n",
    "for i in range(len(df.columns.tolist())):\n",
    "    if type(df.columns.tolist()[i]) == datetime.datetime:\n",
    "        fromHere = i\n",
    "        break\n",
    "print(fromHere) # prints \"9\",  automatic finding OK.\n",
    "shpe = df.shape\n",
    "\n",
    "print(shpe[0], shpe[1])\n",
    "\n",
    "pb = ipywidgets.IntProgress(max = shpe[0] - 1)\n",
    "display(pb)\n",
    "\n",
    "# Delete empty rows\n",
    "\n",
    "indicesOfEmptyRows = []\n",
    "index = 0\n",
    "for j in range(shpe[0]):\n",
    "    if df.iloc[j,fromHere:].isnull().values.all():\n",
    "        indicesOfEmptyRows.append(j)\n",
    "    pb.value = index\n",
    "    index += 1\n",
    "df2 = df.drop(indicesOfEmptyRows, inplace=False)\n",
    "df2.to_excel(\"CleandFromAllNull.xlsx\")"
   ]
  },
  {
   "cell_type": "code",
   "execution_count": 123,
   "metadata": {},
   "outputs": [],
   "source": [
    "# save data cleand from empty rows to excel file\n",
    "\n",
    "df2 = pd.read_excel(\"CleandFromAllNull.xlsx\")\n",
    "df = df2.reset_index(drop=True)"
   ]
  },
  {
   "cell_type": "code",
   "execution_count": 190,
   "metadata": {},
   "outputs": [
    {
     "data": {
      "application/vnd.jupyter.widget-view+json": {
       "model_id": "f085090bc6cf4434bc0e786d3afd223e",
       "version_major": 2,
       "version_minor": 0
      },
      "text/plain": [
       "A Jupyter Widget"
      ]
     },
     "metadata": {},
     "output_type": "display_data"
    }
   ],
   "source": [
    "indicesWhereNotEnoughDataPoints = []  # if there is only 1 data point in a whole row -> delete it\n",
    "pb = ipywidgets.IntProgress(max = df.shape[0] - 1)\n",
    "display(pb)\n",
    "ind = 0\n",
    "\n",
    "for i in range(df.shape[0]):\n",
    "    pb.value = ind\n",
    "    ind += 1\n",
    "    whereIsData = (np.where(df.iloc[i,fromHere:].isnull().values == False))[0] # returns array of indices of real datapoints\n",
    "    data = df.iloc[i,fromHere:].values\n",
    "\n",
    "    if len(whereIsData) < 2:\n",
    "        indicesWhereNotEnoughDataPoints.append(i)\n",
    "    else:\n",
    "        begin = whereIsData[0]\n",
    "        beginHasFisrtValue = True\n",
    "        if begin > 0:\n",
    "            for k in range(begin):\n",
    "                data[k] = 0\n",
    "        for j in range(1, len(whereIsData)):\n",
    "\n",
    "            end = whereIsData[j]\n",
    "            \n",
    "            value = (data[end]-data[begin]) / (end-begin) # daily portion of electricity usage\n",
    "            \n",
    "            #  if the 'value' is negative -> means wrong data -> put 0-s to these days as value\n",
    "            if value < 0:\n",
    "                for k in range(begin, end):\n",
    "                    data[k] = 0\n",
    "            else:\n",
    "                if beginHasFisrtValue:\n",
    "                    data[begin] = value\n",
    "                    beginHasFisrtValue = False\n",
    "                else:\n",
    "                    data[begin] = (data[begin] + value) / 2\n",
    "                for k in range(begin+1, end+1):\n",
    "                    data[k] = value\n",
    "            begin = end\n",
    "        for j in range(end, len(data)):\n",
    "            data[j] = 0\n",
    "            \n",
    "    df = changeValues(df, data, i, arange(fromHere, df.shape[1]))\n",
    "df2 = df.drop(indicesWhereNotEnoughDataPoints, inplace = False)"
   ]
  },
  {
   "cell_type": "code",
   "execution_count": 196,
   "metadata": {},
   "outputs": [],
   "source": [
    "df2.to_csv(\"Interpolated.csv\")"
   ]
  },
  {
   "cell_type": "code",
   "execution_count": 19,
   "metadata": {},
   "outputs": [
    {
     "data": {
      "text/plain": [
       "579"
      ]
     },
     "execution_count": 19,
     "metadata": {},
     "output_type": "execute_result"
    }
   ],
   "source": [
    "numberOfDataPoints = len(df.iloc[i,fromHere:])-sum(df.iloc[0,fromHere:].isnull().values)"
   ]
  },
  {
   "cell_type": "code",
   "execution_count": 33,
   "metadata": {},
   "outputs": [],
   "source": [
    "whereIsData = np.where(df.iloc[0,fromHere:].isnull().values == False) # returns array of indices of real datapoints"
   ]
  },
  {
   "cell_type": "code",
   "execution_count": 167,
   "metadata": {},
   "outputs": [
    {
     "data": {
      "text/html": [
       "<div>\n",
       "<style>\n",
       "    .dataframe thead tr:only-child th {\n",
       "        text-align: right;\n",
       "    }\n",
       "\n",
       "    .dataframe thead th {\n",
       "        text-align: left;\n",
       "    }\n",
       "\n",
       "    .dataframe tbody tr th {\n",
       "        vertical-align: top;\n",
       "    }\n",
       "</style>\n",
       "<table border=\"1\" class=\"dataframe\">\n",
       "  <thead>\n",
       "    <tr style=\"text-align: right;\">\n",
       "      <th></th>\n",
       "      <th>First Read</th>\n",
       "      <th>Last Read</th>\n",
       "      <th>Advance</th>\n",
       "      <th>First Read</th>\n",
       "      <th>Last Read</th>\n",
       "      <th>Days</th>\n",
       "      <th>Annual Advance</th>\n",
       "      <th>Readings</th>\n",
       "      <th>MPAN ID</th>\n",
       "      <th>2018-01-01 00:00:00</th>\n",
       "      <th>...</th>\n",
       "      <th>2019-07-25 00:00:00</th>\n",
       "      <th>2019-07-26 00:00:00</th>\n",
       "      <th>2019-07-27 00:00:00</th>\n",
       "      <th>2019-07-28 00:00:00</th>\n",
       "      <th>2019-07-29 00:00:00</th>\n",
       "      <th>2019-07-30 00:00:00</th>\n",
       "      <th>2019-07-31 00:00:00</th>\n",
       "      <th>2019-08-01 00:00:00</th>\n",
       "      <th>2019-08-02 00:00:00</th>\n",
       "      <th>2019-08-03 00:00:00</th>\n",
       "    </tr>\n",
       "  </thead>\n",
       "  <tbody>\n",
       "    <tr>\n",
       "      <th>1</th>\n",
       "      <td>1752911</td>\n",
       "      <td>1752911</td>\n",
       "      <td>0</td>\n",
       "      <td>00:00:00</td>\n",
       "      <td>00:00:00</td>\n",
       "      <td>0</td>\n",
       "      <td></td>\n",
       "      <td>1</td>\n",
       "      <td>6</td>\n",
       "      <td>0</td>\n",
       "      <td>...</td>\n",
       "      <td>NaN</td>\n",
       "      <td>NaN</td>\n",
       "      <td>NaN</td>\n",
       "      <td>NaN</td>\n",
       "      <td>NaN</td>\n",
       "      <td>NaN</td>\n",
       "      <td>NaN</td>\n",
       "      <td>NaN</td>\n",
       "      <td>NaN</td>\n",
       "      <td>NaN</td>\n",
       "    </tr>\n",
       "    <tr>\n",
       "      <th>2</th>\n",
       "      <td>1375558</td>\n",
       "      <td>1657284</td>\n",
       "      <td>281726</td>\n",
       "      <td>00:00:00</td>\n",
       "      <td>00:00:00</td>\n",
       "      <td>00:00:00</td>\n",
       "      <td></td>\n",
       "      <td>19</td>\n",
       "      <td>9</td>\n",
       "      <td>1375558</td>\n",
       "      <td>...</td>\n",
       "      <td>NaN</td>\n",
       "      <td>NaN</td>\n",
       "      <td>NaN</td>\n",
       "      <td>NaN</td>\n",
       "      <td>NaN</td>\n",
       "      <td>NaN</td>\n",
       "      <td>NaN</td>\n",
       "      <td>NaN</td>\n",
       "      <td>NaN</td>\n",
       "      <td>NaN</td>\n",
       "    </tr>\n",
       "    <tr>\n",
       "      <th>3</th>\n",
       "      <td>0</td>\n",
       "      <td>0</td>\n",
       "      <td>0</td>\n",
       "      <td>00:00:00</td>\n",
       "      <td>00:00:00</td>\n",
       "      <td>0</td>\n",
       "      <td></td>\n",
       "      <td>0</td>\n",
       "      <td>11</td>\n",
       "      <td>NaN</td>\n",
       "      <td>...</td>\n",
       "      <td>NaN</td>\n",
       "      <td>NaN</td>\n",
       "      <td>NaN</td>\n",
       "      <td>NaN</td>\n",
       "      <td>NaN</td>\n",
       "      <td>NaN</td>\n",
       "      <td>NaN</td>\n",
       "      <td>NaN</td>\n",
       "      <td>NaN</td>\n",
       "      <td>NaN</td>\n",
       "    </tr>\n",
       "    <tr>\n",
       "      <th>4</th>\n",
       "      <td>1136382</td>\n",
       "      <td>1223559</td>\n",
       "      <td>87177</td>\n",
       "      <td>00:00:00</td>\n",
       "      <td>00:00:00</td>\n",
       "      <td>0</td>\n",
       "      <td></td>\n",
       "      <td>18</td>\n",
       "      <td>13</td>\n",
       "      <td>1136382</td>\n",
       "      <td>...</td>\n",
       "      <td>NaN</td>\n",
       "      <td>NaN</td>\n",
       "      <td>NaN</td>\n",
       "      <td>NaN</td>\n",
       "      <td>NaN</td>\n",
       "      <td>NaN</td>\n",
       "      <td>NaN</td>\n",
       "      <td>NaN</td>\n",
       "      <td>NaN</td>\n",
       "      <td>NaN</td>\n",
       "    </tr>\n",
       "    <tr>\n",
       "      <th>5</th>\n",
       "      <td>0</td>\n",
       "      <td>0</td>\n",
       "      <td>0</td>\n",
       "      <td>00:00:00</td>\n",
       "      <td>00:00:00</td>\n",
       "      <td>0</td>\n",
       "      <td></td>\n",
       "      <td>0</td>\n",
       "      <td>2806</td>\n",
       "      <td>NaN</td>\n",
       "      <td>...</td>\n",
       "      <td>NaN</td>\n",
       "      <td>NaN</td>\n",
       "      <td>NaN</td>\n",
       "      <td>NaN</td>\n",
       "      <td>NaN</td>\n",
       "      <td>NaN</td>\n",
       "      <td>NaN</td>\n",
       "      <td>NaN</td>\n",
       "      <td>NaN</td>\n",
       "      <td>NaN</td>\n",
       "    </tr>\n",
       "  </tbody>\n",
       "</table>\n",
       "<p>5 rows × 589 columns</p>\n",
       "</div>"
      ],
      "text/plain": [
       "0 First Read Last Read Advance First Read Last Read      Days Annual Advance  \\\n",
       "1    1752911   1752911       0   00:00:00  00:00:00         0                  \n",
       "2    1375558   1657284  281726   00:00:00  00:00:00  00:00:00                  \n",
       "3          0         0       0   00:00:00  00:00:00         0                  \n",
       "4    1136382   1223559   87177   00:00:00  00:00:00         0                  \n",
       "5          0         0       0   00:00:00  00:00:00         0                  \n",
       "\n",
       "0 Readings MPAN ID 2018-01-01 00:00:00         ...          \\\n",
       "1        1       6                   0         ...           \n",
       "2       19       9             1375558         ...           \n",
       "3        0      11                 NaN         ...           \n",
       "4       18      13             1136382         ...           \n",
       "5        0    2806                 NaN         ...           \n",
       "\n",
       "0 2019-07-25 00:00:00 2019-07-26 00:00:00 2019-07-27 00:00:00  \\\n",
       "1                 NaN                 NaN                 NaN   \n",
       "2                 NaN                 NaN                 NaN   \n",
       "3                 NaN                 NaN                 NaN   \n",
       "4                 NaN                 NaN                 NaN   \n",
       "5                 NaN                 NaN                 NaN   \n",
       "\n",
       "0 2019-07-28 00:00:00 2019-07-29 00:00:00 2019-07-30 00:00:00  \\\n",
       "1                 NaN                 NaN                 NaN   \n",
       "2                 NaN                 NaN                 NaN   \n",
       "3                 NaN                 NaN                 NaN   \n",
       "4                 NaN                 NaN                 NaN   \n",
       "5                 NaN                 NaN                 NaN   \n",
       "\n",
       "0 2019-07-31 00:00:00 2019-08-01 00:00:00 2019-08-02 00:00:00  \\\n",
       "1                 NaN                 NaN                 NaN   \n",
       "2                 NaN                 NaN                 NaN   \n",
       "3                 NaN                 NaN                 NaN   \n",
       "4                 NaN                 NaN                 NaN   \n",
       "5                 NaN                 NaN                 NaN   \n",
       "\n",
       "0 2019-08-03 00:00:00  \n",
       "1                 NaN  \n",
       "2                 NaN  \n",
       "3                 NaN  \n",
       "4                 NaN  \n",
       "5                 NaN  \n",
       "\n",
       "[5 rows x 589 columns]"
      ]
     },
     "execution_count": 167,
     "metadata": {},
     "output_type": "execute_result"
    }
   ],
   "source": [
    "df.head()"
   ]
  },
  {
   "cell_type": "code",
   "execution_count": 169,
   "metadata": {},
   "outputs": [
    {
     "data": {
      "text/plain": [
       "0\n",
       "MPAN ID                      9\n",
       "2018-01-01 00:00:00    1375558\n",
       "Name: 2, dtype: object"
      ]
     },
     "execution_count": 169,
     "metadata": {},
     "output_type": "execute_result"
    }
   ],
   "source": [
    "whereIsData = (np.where(df.iloc[1,fromHere:].isnull().values == False))[0]\n",
    "df.iloc[1, 8:10]"
   ]
  },
  {
   "cell_type": "code",
   "execution_count": 114,
   "metadata": {},
   "outputs": [],
   "source": [
    "def changeValues(df, mylist, row, indices):\n",
    "    '''\n",
    "    @summary: changes a set of values within DataFrame's row to values from parameter mylist\n",
    "    @param df: DataFrame in which we make the changes\n",
    "    @type df: pandas.core.frame.DataFrame\n",
    "    @param mylist: list with values to change DataFrame's elements\n",
    "    @type mylist: list\n",
    "    @param row: the index of row in which we make the changes\n",
    "    @type row: int\n",
    "    @param indices: the number indices of columns in which we make changes\n",
    "    @type indices: list\n",
    "    '''\n",
    "    columnNames = df.columns\n",
    "    if len(mylist) != len(indices):\n",
    "        print(\"Error! len(mylist) != len(indices)\")\n",
    "        return 0\n",
    "    for i in range(len(indices)):\n",
    "        df.loc[row, columnNames[indices[i]]] = mylist[i]\n",
    "    return df"
   ]
  }
 ],
 "metadata": {
  "kernelspec": {
   "display_name": "Python 3",
   "language": "python",
   "name": "python3"
  },
  "language_info": {
   "codemirror_mode": {
    "name": "ipython",
    "version": 3
   },
   "file_extension": ".py",
   "mimetype": "text/x-python",
   "name": "python",
   "nbconvert_exporter": "python",
   "pygments_lexer": "ipython3",
   "version": "3.6.4"
  }
 },
 "nbformat": 4,
 "nbformat_minor": 2
}

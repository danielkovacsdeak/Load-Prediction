{
 "cells": [
  {
   "cell_type": "code",
   "execution_count": 1,
   "metadata": {},
   "outputs": [
    {
     "name": "stdout",
     "output_type": "stream",
     "text": [
      "Populating the interactive namespace from numpy and matplotlib\n"
     ]
    }
   ],
   "source": [
    "%pylab inline\n",
    "from sklearn.cluster import SpectralClustering\n",
    "from scipy.spatial import distance_matrix\n",
    "import numpy as np"
   ]
  },
  {
   "cell_type": "code",
   "execution_count": 2,
   "metadata": {},
   "outputs": [
    {
     "data": {
      "text/plain": [
       "[[8, 2, 6],\n",
       " [3, 8, 2],\n",
       " [1.1000000000000001, 8, 10],\n",
       " [2.0, 1, 11],\n",
       " [2.1000000000000001, 5, 11],\n",
       " [11, 1, 6],\n",
       " [1, 1, 10]]"
      ]
     },
     "execution_count": 2,
     "metadata": {},
     "output_type": "execute_result"
    }
   ],
   "source": [
    "#smd: smart meter data -> 9 points / record\n",
    "smd = [[1,3,4, 1,0,1, 2,1,3],    # (X._.X)   1\n",
    "       [0,1,2, 4,3,1, 1,1,0],    # |_.X._|   2\n",
    "       [.1,.8,.2, 3,3,2, 3,4,3], # |_.X.X|   2\n",
    "       [.9,.1,1, 0,0,1, 4,4,3],  # <_._.X>   0\n",
    "       [.2, .9,1, 0,3,2, 3,3,5], # |_.X.X|   2\n",
    "       [3,4,4, 1,0,0, 3,1,2],    # (X._.X)   1\n",
    "       [0,0,1, 0,1,0, 4,1,5]]    # <_._.X>   0\n",
    "\n",
    "# mr: meat reading data\n",
    "mr = [[9,1,3],                   # (X._.x)    1\n",
    "      [0.8,7,15],                 # |_.X.X|    2   <-- pay attention to this (between type 2 and type 0)\n",
    "      [3,3,12]]                   # <_._.X>    0  \n",
    "\n",
    "smd2 = []\n",
    "for vec in smd:\n",
    "    smd2.append([sum(vec[:3]),sum(vec[3:6]), sum(vec[6:])]) # needs to be automated, now splitted with \"hand\"\n",
    "D = distance_matrix(smd2, smd2)\n",
    "smd2"
   ]
  },
  {
   "cell_type": "code",
   "execution_count": 3,
   "metadata": {},
   "outputs": [
    {
     "name": "stderr",
     "output_type": "stream",
     "text": [
      "C:\\Users\\Afaui\\Anaconda3\\lib\\site-packages\\sklearn\\cluster\\spectral.py:442: UserWarning: The spectral clustering API has changed. ``fit``now constructs an affinity matrix from data. To use a custom affinity matrix, set ``affinity=precomputed``.\n",
      "  warnings.warn(\"The spectral clustering API has changed. ``fit``\"\n"
     ]
    }
   ],
   "source": [
    "N = 3 # number of clusters\n",
    "clustering = SpectralClustering(n_clusters=N,\n",
    "         assign_labels=\"discretize\",\n",
    "         random_state=0).fit(D)"
   ]
  },
  {
   "cell_type": "code",
   "execution_count": 4,
   "metadata": {},
   "outputs": [
    {
     "data": {
      "text/plain": [
       "array([2, 1, 1, 0, 1, 2, 0], dtype=int64)"
      ]
     },
     "execution_count": 4,
     "metadata": {},
     "output_type": "execute_result"
    }
   ],
   "source": [
    "labels = clustering.labels_ # with same indexing as input we find cluster id-s in this\n",
    "labels"
   ]
  },
  {
   "cell_type": "code",
   "execution_count": 5,
   "metadata": {
    "collapsed": true
   },
   "outputs": [],
   "source": [
    "centers = [zeros(len(smd2[0]))] * N \n",
    "# (number of clusters) times null-vectors\n",
    "\n",
    "for i in range(len(smd2)): # sum of vectors in each cluster\n",
    "    vec = smd2[i]\n",
    "    label = labels[i] # actual cluster ID\n",
    "    centers[label] = [sum(x) for x in zip(vec, centers[label])]\n",
    "    \n",
    "for label in range(N): # divide it by the number of vectors in each cluster\n",
    "    centers[label] = [x / labels.tolist().count(label) for x in centers[label]]\n",
    "\n",
    "D2 = distance_matrix(mr, centers)\n",
    "mdLabels = [] # gives the id of the closest cluster for each \n",
    "            # meta reading data point\n",
    "for row in D2:\n",
    "    mdLabels.append(argmin(row))"
   ]
  },
  {
   "cell_type": "code",
   "execution_count": 7,
   "metadata": {},
   "outputs": [
    {
     "data": {
      "text/plain": [
       "[2, 1, 0]"
      ]
     },
     "execution_count": 7,
     "metadata": {},
     "output_type": "execute_result"
    }
   ],
   "source": [
    "# now we know the closest clusters for each meta reading\n",
    "# next step to fill the peak loads\n",
    "# QUESTION: what to put in? Average of relevant vectors'\n",
    "# peak values?\n",
    "\n",
    "def fill():\n",
    "    for j in range(len(mr)): # iterate over all meta reading data\n",
    "        mr_ = mr[j]\n",
    "        cluster = mrLabels[j]\n",
    "        for i in rang(len(mr_)):\n",
    "            "
   ]
  },
  {
   "cell_type": "code",
   "execution_count": null,
   "metadata": {
    "collapsed": true
   },
   "outputs": [],
   "source": []
  }
 ],
 "metadata": {
  "kernelspec": {
   "display_name": "Python 3",
   "language": "python",
   "name": "python3"
  },
  "language_info": {
   "codemirror_mode": {
    "name": "ipython",
    "version": 3
   },
   "file_extension": ".py",
   "mimetype": "text/x-python",
   "name": "python",
   "nbconvert_exporter": "python",
   "pygments_lexer": "ipython3",
   "version": "3.6.3"
  }
 },
 "nbformat": 4,
 "nbformat_minor": 2
}
